{
 "cells": [
  {
   "cell_type": "code",
   "execution_count": 1,
   "metadata": {},
   "outputs": [],
   "source": [
    "import pandas as pd\n",
    "import matplotlib.pyplot as plt\n",
    "import numpy as np\n",
    "import pywt\n",
    "import seaborn as sns\n",
    "\n",
    "from numba import cuda"
   ]
  },
  {
   "cell_type": "code",
   "execution_count": 2,
   "metadata": {},
   "outputs": [
    {
     "data": {
      "text/plain": [
       "'0.24.2'"
      ]
     },
     "execution_count": 2,
     "metadata": {},
     "output_type": "execute_result"
    }
   ],
   "source": [
    "pd.__version__"
   ]
  },
  {
   "cell_type": "markdown",
   "metadata": {},
   "source": [
    "# Import data"
   ]
  },
  {
   "cell_type": "code",
   "execution_count": 3,
   "metadata": {},
   "outputs": [
    {
     "data": {
      "text/html": [
       "<div>\n",
       "<style scoped>\n",
       "    .dataframe tbody tr th:only-of-type {\n",
       "        vertical-align: middle;\n",
       "    }\n",
       "\n",
       "    .dataframe tbody tr th {\n",
       "        vertical-align: top;\n",
       "    }\n",
       "\n",
       "    .dataframe thead th {\n",
       "        text-align: right;\n",
       "    }\n",
       "</style>\n",
       "<table border=\"1\" class=\"dataframe\">\n",
       "  <thead>\n",
       "    <tr style=\"text-align: right;\">\n",
       "      <th></th>\n",
       "      <th>0</th>\n",
       "      <th>1</th>\n",
       "      <th>2</th>\n",
       "      <th>3</th>\n",
       "    </tr>\n",
       "  </thead>\n",
       "  <tbody>\n",
       "    <tr>\n",
       "      <th>0</th>\n",
       "      <td>1</td>\n",
       "      <td>01/09/2011 00:00</td>\n",
       "      <td>37</td>\n",
       "      <td>89.0</td>\n",
       "    </tr>\n",
       "    <tr>\n",
       "      <th>1</th>\n",
       "      <td>2</td>\n",
       "      <td>01/09/2011 00:05</td>\n",
       "      <td>48</td>\n",
       "      <td>82.0</td>\n",
       "    </tr>\n",
       "    <tr>\n",
       "      <th>2</th>\n",
       "      <td>3</td>\n",
       "      <td>01/09/2011 00:10</td>\n",
       "      <td>26</td>\n",
       "      <td>85.0</td>\n",
       "    </tr>\n",
       "    <tr>\n",
       "      <th>3</th>\n",
       "      <td>4</td>\n",
       "      <td>01/09/2011 00:15</td>\n",
       "      <td>47</td>\n",
       "      <td>81.0</td>\n",
       "    </tr>\n",
       "    <tr>\n",
       "      <th>4</th>\n",
       "      <td>5</td>\n",
       "      <td>01/09/2011 00:20</td>\n",
       "      <td>52</td>\n",
       "      <td>82.0</td>\n",
       "    </tr>\n",
       "  </tbody>\n",
       "</table>\n",
       "</div>"
      ],
      "text/plain": [
       "   0                 1   2     3\n",
       "0  1  01/09/2011 00:00  37  89.0\n",
       "1  2  01/09/2011 00:05  48  82.0\n",
       "2  3  01/09/2011 00:10  26  85.0\n",
       "3  4  01/09/2011 00:15  47  81.0\n",
       "4  5  01/09/2011 00:20  52  82.0"
      ]
     },
     "execution_count": 3,
     "metadata": {},
     "output_type": "execute_result"
    }
   ],
   "source": [
    "data = pd.read_csv('SP-280-Leste.csv', sep=',',header=None)\n",
    "data.head()"
   ]
  },
  {
   "cell_type": "markdown",
   "metadata": {},
   "source": [
    "## Clean and organize dataset\n",
    "\n",
    "### Organize the dataset\n",
    "\n",
    "Organize the columns, remove some not useful data, rename the columns and convert each column to your correct unit.\n",
    "\n",
    "### Date-time columns\n",
    "\n",
    "Working with date-time date requires to change the index DataFrame to the column that contain Date-Time values\n"
   ]
  },
  {
   "cell_type": "code",
   "execution_count": 4,
   "metadata": {},
   "outputs": [
    {
     "data": {
      "text/html": [
       "<div>\n",
       "<style scoped>\n",
       "    .dataframe tbody tr th:only-of-type {\n",
       "        vertical-align: middle;\n",
       "    }\n",
       "\n",
       "    .dataframe tbody tr th {\n",
       "        vertical-align: top;\n",
       "    }\n",
       "\n",
       "    .dataframe thead th {\n",
       "        text-align: right;\n",
       "    }\n",
       "</style>\n",
       "<table border=\"1\" class=\"dataframe\">\n",
       "  <thead>\n",
       "    <tr style=\"text-align: right;\">\n",
       "      <th></th>\n",
       "      <th>Fluxo[veic/h.faixa]</th>\n",
       "      <th>Velocidade[km/h]</th>\n",
       "      <th>Densidade[veic/km.faixa]</th>\n",
       "    </tr>\n",
       "    <tr>\n",
       "      <th>Data-Hora</th>\n",
       "      <th></th>\n",
       "      <th></th>\n",
       "      <th></th>\n",
       "    </tr>\n",
       "  </thead>\n",
       "  <tbody>\n",
       "    <tr>\n",
       "      <th>2011-09-01 00:00:00</th>\n",
       "      <td>222.0</td>\n",
       "      <td>89.0</td>\n",
       "      <td>2.494382</td>\n",
       "    </tr>\n",
       "    <tr>\n",
       "      <th>2011-09-01 00:05:00</th>\n",
       "      <td>288.0</td>\n",
       "      <td>82.0</td>\n",
       "      <td>3.512195</td>\n",
       "    </tr>\n",
       "    <tr>\n",
       "      <th>2011-09-01 00:10:00</th>\n",
       "      <td>156.0</td>\n",
       "      <td>85.0</td>\n",
       "      <td>1.835294</td>\n",
       "    </tr>\n",
       "    <tr>\n",
       "      <th>2011-09-01 00:15:00</th>\n",
       "      <td>282.0</td>\n",
       "      <td>81.0</td>\n",
       "      <td>3.481481</td>\n",
       "    </tr>\n",
       "    <tr>\n",
       "      <th>2011-09-01 00:20:00</th>\n",
       "      <td>312.0</td>\n",
       "      <td>82.0</td>\n",
       "      <td>3.804878</td>\n",
       "    </tr>\n",
       "  </tbody>\n",
       "</table>\n",
       "</div>"
      ],
      "text/plain": [
       "                     Fluxo[veic/h.faixa]  Velocidade[km/h]  \\\n",
       "Data-Hora                                                    \n",
       "2011-09-01 00:00:00                222.0              89.0   \n",
       "2011-09-01 00:05:00                288.0              82.0   \n",
       "2011-09-01 00:10:00                156.0              85.0   \n",
       "2011-09-01 00:15:00                282.0              81.0   \n",
       "2011-09-01 00:20:00                312.0              82.0   \n",
       "\n",
       "                     Densidade[veic/km.faixa]  \n",
       "Data-Hora                                      \n",
       "2011-09-01 00:00:00                  2.494382  \n",
       "2011-09-01 00:05:00                  3.512195  \n",
       "2011-09-01 00:10:00                  1.835294  \n",
       "2011-09-01 00:15:00                  3.481481  \n",
       "2011-09-01 00:20:00                  3.804878  "
      ]
     },
     "execution_count": 4,
     "metadata": {},
     "output_type": "execute_result"
    }
   ],
   "source": [
    "'''Organize'''\n",
    "# Drop the column '0'\n",
    "data = data.drop(columns=0)\n",
    "\n",
    "# Rename columns\n",
    "data = data.rename(columns={0:\"ID\", 1:\"Data-Hora\",2:\"Fluxo[veic/h.faixa]\", 3:\"Velocidade[km/h]\" })\n",
    "\n",
    "# Calculate flow rate\n",
    "data[\"Fluxo[veic/h.faixa]\"] = data[\"Fluxo[veic/h.faixa]\"] * 60 / 5 / 2 # two lanes\n",
    "\n",
    "# Calculate Density\n",
    "data[\"Densidade[veic/km.faixa]\"] = data[\"Fluxo[veic/h.faixa]\"] / data['Velocidade[km/h]']\n",
    "\n",
    "# Convert to_datetime\n",
    "data['Data-Hora'] = pd.to_datetime(data['Data-Hora'], format='%d/%m/%Y %H:%M')\n",
    "\n",
    "'''Date-time column index'''\n",
    "data.set_index('Data-Hora',inplace=True)\n",
    "data.head()"
   ]
  },
  {
   "cell_type": "code",
   "execution_count": 5,
   "metadata": {},
   "outputs": [
    {
     "name": "stdout",
     "output_type": "stream",
     "text": [
      "Fluxo[veic/h.faixa]         float64\n",
      "Velocidade[km/h]            float64\n",
      "Densidade[veic/km.faixa]    float64\n",
      "dtype: object\n",
      "(105408, 3)\n"
     ]
    }
   ],
   "source": [
    "print(data.dtypes)\n",
    "print(data.shape)"
   ]
  },
  {
   "cell_type": "markdown",
   "metadata": {},
   "source": [
    "### Missing values\n",
    "\n",
    "Verifying some missing values in dataset"
   ]
  },
  {
   "cell_type": "code",
   "execution_count": 6,
   "metadata": {},
   "outputs": [
    {
     "data": {
      "text/html": [
       "<div>\n",
       "<style scoped>\n",
       "    .dataframe tbody tr th:only-of-type {\n",
       "        vertical-align: middle;\n",
       "    }\n",
       "\n",
       "    .dataframe tbody tr th {\n",
       "        vertical-align: top;\n",
       "    }\n",
       "\n",
       "    .dataframe thead th {\n",
       "        text-align: right;\n",
       "    }\n",
       "</style>\n",
       "<table border=\"1\" class=\"dataframe\">\n",
       "  <thead>\n",
       "    <tr style=\"text-align: right;\">\n",
       "      <th></th>\n",
       "      <th>Fluxo[veic/h.faixa]</th>\n",
       "      <th>Velocidade[km/h]</th>\n",
       "      <th>Densidade[veic/km.faixa]</th>\n",
       "    </tr>\n",
       "    <tr>\n",
       "      <th>Data-Hora</th>\n",
       "      <th></th>\n",
       "      <th></th>\n",
       "      <th></th>\n",
       "    </tr>\n",
       "  </thead>\n",
       "  <tbody>\n",
       "    <tr>\n",
       "      <th>2011-10-16 00:45:00</th>\n",
       "      <td>0.0</td>\n",
       "      <td>NaN</td>\n",
       "      <td>NaN</td>\n",
       "    </tr>\n",
       "  </tbody>\n",
       "</table>\n",
       "</div>"
      ],
      "text/plain": [
       "                     Fluxo[veic/h.faixa]  Velocidade[km/h]  \\\n",
       "Data-Hora                                                    \n",
       "2011-10-16 00:45:00                  0.0               NaN   \n",
       "\n",
       "                     Densidade[veic/km.faixa]  \n",
       "Data-Hora                                      \n",
       "2011-10-16 00:45:00                       NaN  "
      ]
     },
     "execution_count": 6,
     "metadata": {},
     "output_type": "execute_result"
    }
   ],
   "source": [
    "data[data.isna()['Velocidade[km/h]']]"
   ]
  },
  {
   "cell_type": "code",
   "execution_count": 7,
   "metadata": {},
   "outputs": [
    {
     "data": {
      "text/plain": [
       "Fluxo[veic/h.faixa]          0\n",
       "Velocidade[km/h]             1\n",
       "Densidade[veic/km.faixa]    39\n",
       "dtype: int64"
      ]
     },
     "execution_count": 7,
     "metadata": {},
     "output_type": "execute_result"
    }
   ],
   "source": [
    "data.isna().sum()"
   ]
  },
  {
   "cell_type": "code",
   "execution_count": 8,
   "metadata": {},
   "outputs": [
    {
     "data": {
      "text/plain": [
       "Fluxo[veic/h.faixa]         0\n",
       "Velocidade[km/h]            0\n",
       "Densidade[veic/km.faixa]    0\n",
       "dtype: int64"
      ]
     },
     "execution_count": 8,
     "metadata": {},
     "output_type": "execute_result"
    }
   ],
   "source": [
    "data = data.fillna(0.0)\n",
    "data.isna().sum()"
   ]
  },
  {
   "cell_type": "markdown",
   "metadata": {},
   "source": [
    "# Wavelet Analysis"
   ]
  },
  {
   "cell_type": "markdown",
   "metadata": {},
   "source": [
    "## Introduction"
   ]
  },
  {
   "cell_type": "code",
   "execution_count": null,
   "metadata": {},
   "outputs": [],
   "source": [
    "pywt.families()"
   ]
  },
  {
   "cell_type": "code",
   "execution_count": null,
   "metadata": {},
   "outputs": [],
   "source": [
    "t = 5#min\n",
    "n = 288#data.size\n",
    "\n",
    "while n>2:\n",
    "    print(t,' min -> ', n)\n",
    "    t *= 2\n",
    "    n /= 2"
   ]
  },
  {
   "cell_type": "markdown",
   "metadata": {},
   "source": [
    "## Applying in all dataset"
   ]
  },
  {
   "cell_type": "code",
   "execution_count": null,
   "metadata": {},
   "outputs": [],
   "source": [
    "cA, cD = pywt.dwt(data['Densidade[veic/km.faixa]'],'haar')"
   ]
  },
  {
   "cell_type": "code",
   "execution_count": null,
   "metadata": {},
   "outputs": [],
   "source": [
    "data['Velocidade[km/h]'].plot()"
   ]
  },
  {
   "cell_type": "code",
   "execution_count": null,
   "metadata": {},
   "outputs": [],
   "source": [
    "plt.plot(cD)"
   ]
  },
  {
   "cell_type": "code",
   "execution_count": null,
   "metadata": {},
   "outputs": [],
   "source": [
    "nlevel = 8\n",
    "res = pywt.wavedec(data['Velocidade[km/h]'],'haar',level=nlevel)\n",
    "#res"
   ]
  },
  {
   "cell_type": "code",
   "execution_count": null,
   "metadata": {},
   "outputs": [],
   "source": [
    "for i in range(nlevel+1):\n",
    "    plt.figure()\n",
    "    plt.plot(res[i])\n",
    "    print('Mean = ', res[i].mean(),' | Std = ', res[i].std())"
   ]
  },
  {
   "cell_type": "code",
   "execution_count": null,
   "metadata": {},
   "outputs": [],
   "source": [
    "#level = 0\n",
    "for level in range(nlevel+1):\n",
    "    highvalue = res[level].mean() + 1.5 * res[level].std()\n",
    "    lowvalue = res[level].mean() - 1.5 * res[level].std()\n",
    "\n",
    "    res[level] = pywt.threshold(res[level], lowvalue, 'greater', lowvalue)\n",
    "    res[level] = pywt.threshold(res[level], highvalue, 'less', highvalue)"
   ]
  },
  {
   "cell_type": "code",
   "execution_count": null,
   "metadata": {},
   "outputs": [],
   "source": [
    "signal = pywt.waverec(res,'haar')\n",
    "\n",
    "plt.figure(figsize = (20,10))\n",
    "plt.scatter(data['Densidade[veic/km.faixa]'], data['Velocidade[km/h]'], color='grey')\n",
    "plt.scatter(data['Densidade[veic/km.faixa]'], signal, s=3, color='red')"
   ]
  },
  {
   "cell_type": "markdown",
   "metadata": {},
   "source": [
    "## Applying in each day"
   ]
  },
  {
   "cell_type": "code",
   "execution_count": null,
   "metadata": {},
   "outputs": [],
   "source": [
    "db = data[0:288]\n",
    "\n",
    "# Plot Speed-Time and Flow-Time\n",
    "fig = plt.figure()\n",
    "plt.plot(db[\"Data-Hora\"],db['Fluxo[veic/h.faixa]'])\n",
    "\n",
    "fig = plt.figure()\n",
    "plt.plot(db[\"Data-Hora\"],db['Velocidade[km/h]'])"
   ]
  },
  {
   "cell_type": "code",
   "execution_count": null,
   "metadata": {},
   "outputs": [],
   "source": [
    "cA, cD = pywt.dwt(db['Fluxo[veic/h.faixa]'] ,'haar')\n",
    "plt.plot(cA)\n",
    "plt.figure()\n",
    "plt.plot(cD,color='orange')"
   ]
  },
  {
   "cell_type": "code",
   "execution_count": null,
   "metadata": {},
   "outputs": [],
   "source": [
    "cA, cD = pywt.dwt(db['Velocidade[km/h]'] ,'haar')\n",
    "plt.plot(cA)\n",
    "plt.figure()\n",
    "plt.plot(cD,color='orange')"
   ]
  },
  {
   "cell_type": "code",
   "execution_count": null,
   "metadata": {},
   "outputs": [],
   "source": [
    "def scatterHist(x,y):\n",
    "    # definitions for the axes\n",
    "    left, width = 0.1, 0.65\n",
    "    bottom, height = 0.1, 0.65\n",
    "    spacing = 0.005\n",
    "\n",
    "\n",
    "    rect_scatter = [left, bottom, width, height]\n",
    "    rect_histx = [left, bottom + height + spacing, width, 0.2]\n",
    "    rect_histy = [left + width + spacing, bottom, 0.2, height]\n",
    "\n",
    "    # start with a rectangular Figure\n",
    "    plt.figure(figsize=(8, 8))\n",
    "\n",
    "    ax_scatter = plt.axes(rect_scatter)\n",
    "    ax_scatter.tick_params(direction='in', top=True, right=True)\n",
    "    ax_histx = plt.axes(rect_histx)\n",
    "    ax_histx.tick_params(direction='in', labelbottom=False)\n",
    "    ax_histy = plt.axes(rect_histy)\n",
    "    ax_histy.tick_params(direction='in', labelleft=False)\n",
    "\n",
    "    # the scatter plot:\n",
    "    ax_scatter.scatter(x, y)\n",
    "\n",
    "    # now determine nice limits by hand:\n",
    "    binwidth = 20\n",
    "    limx = np.ceil(np.abs(x).max() / binwidth) * binwidth\n",
    "    limy = np.ceil(np.abs(y).max() / binwidth) * binwidth\n",
    "    ax_scatter.set_xlim((0, limx))\n",
    "    ax_scatter.set_ylim((0, limy))\n",
    "\n",
    "    binsx = np.arange(0, limx + binwidth, binwidth)\n",
    "    binsy = np.arange(0, limy + binwidth, binwidth)\n",
    "    ax_histx.hist(x, bins=binsx)\n",
    "    ax_histy.hist(y, bins=binsy, orientation='horizontal')\n",
    "\n",
    "    ax_histx.set_xlim(ax_scatter.get_xlim())\n",
    "    ax_histy.set_ylim(ax_scatter.get_ylim())\n",
    "\n",
    "    plt.show()"
   ]
  },
  {
   "cell_type": "code",
   "execution_count": null,
   "metadata": {},
   "outputs": [],
   "source": [
    "scatterHist(data['Fluxo[veic/h.faixa]'], data['Velocidade[km/h]'])"
   ]
  },
  {
   "cell_type": "code",
   "execution_count": null,
   "metadata": {},
   "outputs": [],
   "source": []
  }
 ],
 "metadata": {
  "kernelspec": {
   "display_name": "Python 3",
   "language": "python",
   "name": "python3"
  },
  "language_info": {
   "codemirror_mode": {
    "name": "ipython",
    "version": 3
   },
   "file_extension": ".py",
   "mimetype": "text/x-python",
   "name": "python",
   "nbconvert_exporter": "python",
   "pygments_lexer": "ipython3",
   "version": "3.6.8"
  }
 },
 "nbformat": 4,
 "nbformat_minor": 2
}
