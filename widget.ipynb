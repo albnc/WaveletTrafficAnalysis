{
 "cells": [
  {
   "cell_type": "code",
   "execution_count": 18,
   "metadata": {},
   "outputs": [],
   "source": [
    "\"\"\"\n",
    "The SpanSelector is a mouse widget to select a xmin/xmax range and plot the\n",
    "detail view of the selected region in the lower axes\n",
    "\"\"\"\n",
    "import numpy as np\n",
    "import matplotlib.pyplot as plt\n",
    "from matplotlib.widgets import SpanSelector\n",
    "\n",
    "%matplotlib widget"
   ]
  },
  {
   "cell_type": "code",
   "execution_count": 19,
   "metadata": {},
   "outputs": [
    {
     "data": {
      "application/vnd.jupyter.widget-view+json": {
       "model_id": "f803d8ded9a0476393c9a5b76e08c096",
       "version_major": 2,
       "version_minor": 0
      },
      "text/plain": [
       "FigureCanvasNbAgg()"
      ]
     },
     "metadata": {},
     "output_type": "display_data"
    }
   ],
   "source": [
    "fig = plt.figure(figsize=(8, 6))\n",
    "ax = fig.add_subplot(211, facecolor='#FFFFCC')\n",
    "\n",
    "x = np.arange(0.0, 5.0, 0.01)\n",
    "y = np.sin(2*np.pi*x) + 0.5*np.random.randn(len(x))\n",
    "\n",
    "ax.plot(x, y, '-')\n",
    "ax.set_ylim(-2, 2)\n",
    "ax.set_title('Press left mouse button and drag to test')\n",
    "\n",
    "ax2 = fig.add_subplot(212, facecolor='#FFFFCC')\n",
    "line2, = ax2.plot(x, y, '-')\n",
    "\n",
    "\n",
    "def onselect(xmin, xmax):\n",
    "    indmin, indmax = np.searchsorted(x, (xmin, xmax))\n",
    "    indmax = min(len(x) - 1, indmax)\n",
    "\n",
    "    thisx = x[indmin:indmax]\n",
    "    thisy = y[indmin:indmax]\n",
    "    line2.set_data(thisx, thisy)\n",
    "    ax2.set_xlim(thisx[0], thisx[-1])\n",
    "    ax2.set_ylim(thisy.min(), thisy.max())\n",
    "    fig.canvas.draw()\n",
    "\n",
    "\n",
    "# set useblit True on gtkagg for enhanced performance\n",
    "span = SpanSelector(ax, onselect, 'horizontal', useblit=True,\n",
    "                    rectprops=dict(alpha=0.5, facecolor='red'))\n",
    "\n",
    "\n",
    "plt.show()"
   ]
  },
  {
   "cell_type": "code",
   "execution_count": null,
   "metadata": {},
   "outputs": [],
   "source": []
  }
 ],
 "metadata": {
  "kernelspec": {
   "display_name": "Python 3",
   "language": "python",
   "name": "python3"
  },
  "language_info": {
   "codemirror_mode": {
    "name": "ipython",
    "version": 3
   },
   "file_extension": ".py",
   "mimetype": "text/x-python",
   "name": "python",
   "nbconvert_exporter": "python",
   "pygments_lexer": "ipython3",
   "version": "3.6.8"
  }
 },
 "nbformat": 4,
 "nbformat_minor": 2
}
