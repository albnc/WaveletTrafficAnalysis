{
 "cells": [
  {
   "cell_type": "code",
   "execution_count": 1,
   "metadata": {},
   "outputs": [],
   "source": [
    "import numpy as np\n",
    "import pandas as pd\n",
    "import pywt\n",
    "import scaleogram as scg"
   ]
  },
  {
   "cell_type": "markdown",
   "metadata": {},
   "source": [
    "---\n",
    "# Import data"
   ]
  },
  {
   "cell_type": "code",
   "execution_count": 2,
   "metadata": {},
   "outputs": [
    {
     "data": {
      "text/html": [
       "<div>\n",
       "<style scoped>\n",
       "    .dataframe tbody tr th:only-of-type {\n",
       "        vertical-align: middle;\n",
       "    }\n",
       "\n",
       "    .dataframe tbody tr th {\n",
       "        vertical-align: top;\n",
       "    }\n",
       "\n",
       "    .dataframe thead th {\n",
       "        text-align: right;\n",
       "    }\n",
       "</style>\n",
       "<table border=\"1\" class=\"dataframe\">\n",
       "  <thead>\n",
       "    <tr style=\"text-align: right;\">\n",
       "      <th></th>\n",
       "      <th>0</th>\n",
       "      <th>1</th>\n",
       "      <th>2</th>\n",
       "      <th>3</th>\n",
       "    </tr>\n",
       "  </thead>\n",
       "  <tbody>\n",
       "    <tr>\n",
       "      <th>0</th>\n",
       "      <td>1</td>\n",
       "      <td>01/09/2011 00:00</td>\n",
       "      <td>37</td>\n",
       "      <td>89.0</td>\n",
       "    </tr>\n",
       "    <tr>\n",
       "      <th>1</th>\n",
       "      <td>2</td>\n",
       "      <td>01/09/2011 00:05</td>\n",
       "      <td>48</td>\n",
       "      <td>82.0</td>\n",
       "    </tr>\n",
       "    <tr>\n",
       "      <th>2</th>\n",
       "      <td>3</td>\n",
       "      <td>01/09/2011 00:10</td>\n",
       "      <td>26</td>\n",
       "      <td>85.0</td>\n",
       "    </tr>\n",
       "    <tr>\n",
       "      <th>3</th>\n",
       "      <td>4</td>\n",
       "      <td>01/09/2011 00:15</td>\n",
       "      <td>47</td>\n",
       "      <td>81.0</td>\n",
       "    </tr>\n",
       "    <tr>\n",
       "      <th>4</th>\n",
       "      <td>5</td>\n",
       "      <td>01/09/2011 00:20</td>\n",
       "      <td>52</td>\n",
       "      <td>82.0</td>\n",
       "    </tr>\n",
       "  </tbody>\n",
       "</table>\n",
       "</div>"
      ],
      "text/plain": [
       "   0                 1   2     3\n",
       "0  1  01/09/2011 00:00  37  89.0\n",
       "1  2  01/09/2011 00:05  48  82.0\n",
       "2  3  01/09/2011 00:10  26  85.0\n",
       "3  4  01/09/2011 00:15  47  81.0\n",
       "4  5  01/09/2011 00:20  52  82.0"
      ]
     },
     "execution_count": 2,
     "metadata": {},
     "output_type": "execute_result"
    }
   ],
   "source": [
    "dataset = pd.read_csv('SP-280-Leste.csv', sep=',',header=None)\n",
    "dataset.head()"
   ]
  },
  {
   "cell_type": "markdown",
   "metadata": {},
   "source": [
    "## Clean and organize dataset\n",
    "\n",
    "+ ### Organize the dataset\n",
    "\n",
    "    Organize the columns, remove some not useful data, rename the columns and convert each column to your correct unit.\n",
    "\n",
    "+ ### Date-time columns\n",
    "\n",
    "    Working with date-time date requires to change the index DataFrame to the column that contain Date-Time values\n"
   ]
  },
  {
   "cell_type": "code",
   "execution_count": 3,
   "metadata": {},
   "outputs": [
    {
     "data": {
      "text/html": [
       "<div>\n",
       "<style scoped>\n",
       "    .dataframe tbody tr th:only-of-type {\n",
       "        vertical-align: middle;\n",
       "    }\n",
       "\n",
       "    .dataframe tbody tr th {\n",
       "        vertical-align: top;\n",
       "    }\n",
       "\n",
       "    .dataframe thead th {\n",
       "        text-align: right;\n",
       "    }\n",
       "</style>\n",
       "<table border=\"1\" class=\"dataframe\">\n",
       "  <thead>\n",
       "    <tr style=\"text-align: right;\">\n",
       "      <th></th>\n",
       "      <th>Flow[veh/h.lane]</th>\n",
       "      <th>Speed[km/h]</th>\n",
       "      <th>Density[veh/km.lane]</th>\n",
       "    </tr>\n",
       "    <tr>\n",
       "      <th>DateTime</th>\n",
       "      <th></th>\n",
       "      <th></th>\n",
       "      <th></th>\n",
       "    </tr>\n",
       "  </thead>\n",
       "  <tbody>\n",
       "    <tr>\n",
       "      <th>2011-09-01 00:00:00</th>\n",
       "      <td>222.0</td>\n",
       "      <td>89.0</td>\n",
       "      <td>2.494382</td>\n",
       "    </tr>\n",
       "    <tr>\n",
       "      <th>2011-09-01 00:05:00</th>\n",
       "      <td>288.0</td>\n",
       "      <td>82.0</td>\n",
       "      <td>3.512195</td>\n",
       "    </tr>\n",
       "    <tr>\n",
       "      <th>2011-09-01 00:10:00</th>\n",
       "      <td>156.0</td>\n",
       "      <td>85.0</td>\n",
       "      <td>1.835294</td>\n",
       "    </tr>\n",
       "    <tr>\n",
       "      <th>2011-09-01 00:15:00</th>\n",
       "      <td>282.0</td>\n",
       "      <td>81.0</td>\n",
       "      <td>3.481481</td>\n",
       "    </tr>\n",
       "    <tr>\n",
       "      <th>2011-09-01 00:20:00</th>\n",
       "      <td>312.0</td>\n",
       "      <td>82.0</td>\n",
       "      <td>3.804878</td>\n",
       "    </tr>\n",
       "  </tbody>\n",
       "</table>\n",
       "</div>"
      ],
      "text/plain": [
       "                     Flow[veh/h.lane]  Speed[km/h]  Density[veh/km.lane]\n",
       "DateTime                                                                \n",
       "2011-09-01 00:00:00             222.0         89.0              2.494382\n",
       "2011-09-01 00:05:00             288.0         82.0              3.512195\n",
       "2011-09-01 00:10:00             156.0         85.0              1.835294\n",
       "2011-09-01 00:15:00             282.0         81.0              3.481481\n",
       "2011-09-01 00:20:00             312.0         82.0              3.804878"
      ]
     },
     "execution_count": 3,
     "metadata": {},
     "output_type": "execute_result"
    }
   ],
   "source": [
    "'''Organize'''\n",
    "# Drop the column '0'\n",
    "dataset = dataset.drop(columns=0)\n",
    "\n",
    "# Rename columns\n",
    "dataset = dataset.rename(columns={0:\"ID\", 1:\"DateTime\",2:\"Flow[veh/h.lane]\", 3:\"Speed[km/h]\" })\n",
    "\n",
    "# Calculate the Flow rate\n",
    "dataset[\"Flow[veh/h.lane]\"] = dataset[\"Flow[veh/h.lane]\"] * 60 / 5 / 2 # two lanes\n",
    "\n",
    "# Calculate the Density\n",
    "dataset[\"Density[veh/km.lane]\"] = dataset[\"Flow[veh/h.lane]\"] / dataset['Speed[km/h]']\n",
    "\n",
    "# Convert to Datetime\n",
    "dataset['DateTime'] = pd.to_datetime(dataset['DateTime'], format='%d/%m/%Y %H:%M')\n",
    "\n",
    "'''Date-time column index'''\n",
    "dataset.set_index('DateTime',inplace=True)\n",
    "dataset.head()"
   ]
  },
  {
   "cell_type": "markdown",
   "metadata": {},
   "source": [
    "+ ### Missing values\n",
    "\n",
    "    Verifying some missing values in dataset\n"
   ]
  },
  {
   "cell_type": "code",
   "execution_count": 4,
   "metadata": {},
   "outputs": [
    {
     "data": {
      "text/plain": [
       "Flow[veh/h.lane]         0\n",
       "Speed[km/h]              1\n",
       "Density[veh/km.lane]    39\n",
       "dtype: int64"
      ]
     },
     "execution_count": 4,
     "metadata": {},
     "output_type": "execute_result"
    }
   ],
   "source": [
    "dataset.isna().sum()"
   ]
  },
  {
   "cell_type": "code",
   "execution_count": 5,
   "metadata": {},
   "outputs": [
    {
     "data": {
      "text/plain": [
       "Flow[veh/h.lane]        0\n",
       "Speed[km/h]             0\n",
       "Density[veh/km.lane]    0\n",
       "dtype: int64"
      ]
     },
     "execution_count": 5,
     "metadata": {},
     "output_type": "execute_result"
    }
   ],
   "source": [
    "dataset = dataset.fillna(0.0)\n",
    "dataset.isna().sum()"
   ]
  },
  {
   "cell_type": "markdown",
   "metadata": {},
   "source": [
    "---\n",
    "# Wavelet Analysis\n",
    "\n",
    "## Applying Wavelet functions\n",
    "+ using Haar Wavelet for each traffic variable"
   ]
  },
  {
   "cell_type": "code",
   "execution_count": 23,
   "metadata": {},
   "outputs": [
    {
     "data": {
      "text/plain": [
       "<matplotlib.axes._subplots.AxesSubplot at 0x1ead5c0fdf0>"
      ]
     },
     "execution_count": 23,
     "metadata": {},
     "output_type": "execute_result"
    },
    {
     "data": {
      "image/png": "[encoded data removed]",
      "text/plain": [
       "<Figure size 432x288 with 1 Axes>"
      ]
     },
     "metadata": {
      "needs_background": "light"
     },
     "output_type": "display_data"
    }
   ],
   "source": [
    "dataset['Flow[veh/h.lane]'].plot()"
   ]
  },
  {
   "cell_type": "code",
   "execution_count": 24,
   "metadata": {},
   "outputs": [],
   "source": [
    "data = np.array(dataset['Flow[veh/h.lane]'])"
   ]
  },
  {
   "cell_type": "code",
   "execution_count": 34,
   "metadata": {},
   "outputs": [
    {
     "data": {
      "text/plain": [
       "<matplotlib.axes._subplots.AxesSubplot at 0x1eaf0169a00>"
      ]
     },
     "execution_count": 34,
     "metadata": {},
     "output_type": "execute_result"
    },
    {
     "data": {
      "image/png": "[encoded data removed]",
      "text/plain": [
       "<Figure size 1080x720 with 2 Axes>"
      ]
     },
     "metadata": {
      "needs_background": "light"
     },
     "output_type": "display_data"
    }
   ],
   "source": [
    "scg.cws(data, scales=np.arange(1,5), wavelet='gaus8', figsize=(15,10), yscale='log')"
   ]
  },
  {
   "cell_type": "code",
   "execution_count": 18,
   "metadata": {},
   "outputs": [
    {
     "data": {
      "text/plain": [
       "['cgau1',\n",
       " 'cgau2',\n",
       " 'cgau3',\n",
       " 'cgau4',\n",
       " 'cgau5',\n",
       " 'cgau6',\n",
       " 'cgau7',\n",
       " 'cgau8',\n",
       " 'cmor',\n",
       " 'fbsp',\n",
       " 'gaus1',\n",
       " 'gaus2',\n",
       " 'gaus3',\n",
       " 'gaus4',\n",
       " 'gaus5',\n",
       " 'gaus6',\n",
       " 'gaus7',\n",
       " 'gaus8',\n",
       " 'mexh',\n",
       " 'morl',\n",
       " 'shan']"
      ]
     },
     "execution_count": 18,
     "metadata": {},
     "output_type": "execute_result"
    }
   ],
   "source": [
    "pywt.wavelist(kind='continuous')"
   ]
  }
 ],
 "metadata": {
  "kernelspec": {
   "display_name": "Python 3",
   "language": "python",
   "name": "python3"
  },
  "language_info": {
   "codemirror_mode": {
    "name": "ipython",
    "version": 3
   },
   "file_extension": ".py",
   "mimetype": "text/x-python",
   "name": "python",
   "nbconvert_exporter": "python",
   "pygments_lexer": "ipython3",
   "version": "3.8.1"
  }
 },
 "nbformat": 4,
 "nbformat_minor": 4
}
