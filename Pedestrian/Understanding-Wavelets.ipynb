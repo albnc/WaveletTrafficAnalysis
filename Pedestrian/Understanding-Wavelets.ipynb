{
 "cells": [
  {
   "cell_type": "markdown",
   "metadata": {},
   "source": [
    "# Understanding Wavelets\n",
    "\n",
    "Types:\n",
    "- DWT - Discrete Wavelet Transform\n",
    "- CWT - Continuous Wavelet Transform\n",
    "\n",
    "The difference is not about the signal type, it is  the 'a' (scale) and 'b' (translation) factors are continuous or discrete values, i.e. the CWT could estimate a pattern in differents periods of time from discrete values in power of 2.\n",
    "\n",
    "## References:\n",
    "- [A gentle introduction to wavelet for data analysis](https://www.kaggle.com/asauve/a-gentle-introduction-to-wavelet-for-data-analysis)\n",
    "\n",
    "- [A guide for using the Wavelet Transform in Machine Learning](http://ataspinar.com/2018/12/21/a-guide-for-using-the-wavelet-transform-in-machine-learning/)\n",
    "\n",
    "- [Pywavelets API Reference](https://pywavelets.readthedocs.io/en/latest/ref/index.html)\n",
    "\n",
    "- [Wavelet Families](http://wavelets.pybytes.com/) \n",
    "\n",
    "- Paper: [Discrete Wavelet Transform-Based Time Series Analysis and Mining](https://www.researchgate.net/publication/220566501_Discrete_Wavelet_Transform-Based_Time_Series_Analysis_and_Mining)\n",
    "\n",
    "- Notebook: [The scaleogram function](https://github.com/alsauve/scaleogram/blob/master/doc/scale-to-frequency.ipynb)\n",
    "\n",
    "- Book: [Data-driven Science and Engineering](http://databookuw.com/)\n",
    "\n",
    "- Course: [AMATH-563 Multi-Resolution Analysis and Wavelets](https://faculty.washington.edu/kutz/am563/page2/page12/am563.html)\n"
   ]
  },
  {
   "cell_type": "code",
   "execution_count": null,
   "metadata": {},
   "outputs": [],
   "source": []
  }
 ],
 "metadata": {
  "language_info": {
   "codemirror_mode": {
    "name": "ipython",
    "version": 3
   },
   "file_extension": ".py",
   "mimetype": "text/x-python",
   "name": "python",
   "nbconvert_exporter": "python",
   "pygments_lexer": "ipython3",
   "version": 3
  },
  "orig_nbformat": 2
 },
 "nbformat": 4,
 "nbformat_minor": 2
}